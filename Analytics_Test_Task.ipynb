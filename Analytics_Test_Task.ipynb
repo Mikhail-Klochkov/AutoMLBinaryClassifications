{
  "nbformat": 4,
  "nbformat_minor": 0,
  "metadata": {
    "kernelspec": {
      "display_name": "Python 3",
      "language": "python",
      "name": "python3"
    },
    "language_info": {
      "codemirror_mode": {
        "name": "ipython",
        "version": 3
      },
      "file_extension": ".py",
      "mimetype": "text/x-python",
      "name": "python",
      "nbconvert_exporter": "python",
      "pygments_lexer": "ipython3",
      "version": "3.6.9"
    },
    "varInspector": {
      "cols": {
        "lenName": 16,
        "lenType": 16,
        "lenVar": 40
      },
      "kernels_config": {
        "python": {
          "delete_cmd_postfix": "",
          "delete_cmd_prefix": "del ",
          "library": "var_list.py",
          "varRefreshCmd": "print(var_dic_list())"
        },
        "r": {
          "delete_cmd_postfix": ") ",
          "delete_cmd_prefix": "rm(",
          "library": "var_list.r",
          "varRefreshCmd": "cat(var_dic_list()) "
        }
      },
      "types_to_exclude": [
        "module",
        "function",
        "builtin_function_or_method",
        "instance",
        "_Feature"
      ],
      "window_display": false
    },
    "colab": {
      "name": "Analytics-Test-Task.ipynb",
      "provenance": [],
      "collapsed_sections": [],
      "include_colab_link": true
    }
  },
  "cells": [
    {
      "cell_type": "markdown",
      "metadata": {
        "id": "view-in-github",
        "colab_type": "text"
      },
      "source": [
        "<a href=\"https://colab.research.google.com/github/Mikhail-Klochkov/AutoMLBinaryClassifications/blob/main/Analytics_Test_Task.ipynb\" target=\"_parent\"><img src=\"https://colab.research.google.com/assets/colab-badge.svg\" alt=\"Open In Colab\"/></a>"
      ]
    },
    {
      "cell_type": "code",
      "metadata": {
        "colab": {
          "base_uri": "https://localhost:8080/"
        },
        "id": "mWen7Sal2Zzh",
        "outputId": "dd3991e2-117e-44c0-b345-6756e741d5c1"
      },
      "source": [
        "from google.colab import drive\n",
        "drive.mount('/content/drive')"
      ],
      "execution_count": 3,
      "outputs": [
        {
          "output_type": "stream",
          "text": [
            "Mounted at /content/drive\n"
          ],
          "name": "stdout"
        }
      ]
    },
    {
      "cell_type": "code",
      "metadata": {
        "id": "TdAewLfXjjsR"
      },
      "source": [
        "import pandas as pd\n",
        "from sklearn.datasets import make_classification\n",
        "from sklearn.linear_model import LogisticRegressionCV\n"
      ],
      "execution_count": 4,
      "outputs": []
    },
    {
      "cell_type": "code",
      "metadata": {
        "id": "g_gOX6hJjjsU"
      },
      "source": [
        "import pandas as pd\n",
        "import numpy as np\n",
        "import warnings \n",
        "warnings.filterwarnings('ignore')"
      ],
      "execution_count": 66,
      "outputs": []
    },
    {
      "cell_type": "markdown",
      "metadata": {
        "id": "tE12aJ9xjjsV"
      },
      "source": [
        "Цель этого задания - проверить, как вы мыслите в области анализа данных, поэтому, пожалуйста, поясняйте текстом каждый шаг вашего решения. В пояснении к каждому шагу должно быть ясно, что и почему вы делаете."
      ]
    },
    {
      "cell_type": "markdown",
      "metadata": {
        "id": "QPdbbcbKjjsV"
      },
      "source": [
        "# Задача 1"
      ]
    },
    {
      "cell_type": "markdown",
      "metadata": {
        "id": "QPxiVJ8FjjsW"
      },
      "source": [
        "Представим, что вы реформируете школьное образование в России и думаете о том, стоит ли строить много маленьких школ или немного больших. Для того, чтобы ответить на этот вопрос, вы решили обратиться к данным и проверить, как зависит средний балл ЕГЭ выпускного класса от его размера. Данные лежат в файле school_stats.csv. Также пусть размеры выпускных классов варьируются от 10 до 200 человек (то есть классы \"A\", \"Б\", первая/вторая смена схлопываются в этой статистике в один класс).\n",
        "\n",
        "Какой вывод о влиянии размера школы на средние баллы ЕГЭ вы можете сделать, основываясь на данных? "
      ]
    },
    {
      "cell_type": "code",
      "metadata": {
        "colab": {
          "base_uri": "https://localhost:8080/",
          "height": 299
        },
        "id": "VUhAXsw9jjsW",
        "outputId": "1316d49e-e448-4e98-b9bd-6355bd8f03d3"
      },
      "source": [
        "data = pd.read_csv(\"/content/drive/MyDrive/Colab_Notebooks/DB/school_stats.csv\", sep=\";\")\n",
        "columns = data.columns\n",
        "data = data.rename(columns = {columns[0]: \"size\"})\n",
        "\n",
        "data.describe()"
      ],
      "execution_count": 46,
      "outputs": [
        {
          "output_type": "execute_result",
          "data": {
            "text/html": [
              "<div>\n",
              "<style scoped>\n",
              "    .dataframe tbody tr th:only-of-type {\n",
              "        vertical-align: middle;\n",
              "    }\n",
              "\n",
              "    .dataframe tbody tr th {\n",
              "        vertical-align: top;\n",
              "    }\n",
              "\n",
              "    .dataframe thead th {\n",
              "        text-align: right;\n",
              "    }\n",
              "</style>\n",
              "<table border=\"1\" class=\"dataframe\">\n",
              "  <thead>\n",
              "    <tr style=\"text-align: right;\">\n",
              "      <th></th>\n",
              "      <th>size</th>\n",
              "      <th>GPA</th>\n",
              "    </tr>\n",
              "  </thead>\n",
              "  <tbody>\n",
              "    <tr>\n",
              "      <th>count</th>\n",
              "      <td>10000.000000</td>\n",
              "      <td>10000.000000</td>\n",
              "    </tr>\n",
              "    <tr>\n",
              "      <th>mean</th>\n",
              "      <td>104.442100</td>\n",
              "      <td>64.988693</td>\n",
              "    </tr>\n",
              "    <tr>\n",
              "      <th>std</th>\n",
              "      <td>54.903986</td>\n",
              "      <td>1.522066</td>\n",
              "    </tr>\n",
              "    <tr>\n",
              "      <th>min</th>\n",
              "      <td>10.000000</td>\n",
              "      <td>54.841785</td>\n",
              "    </tr>\n",
              "    <tr>\n",
              "      <th>25%</th>\n",
              "      <td>57.000000</td>\n",
              "      <td>64.152781</td>\n",
              "    </tr>\n",
              "    <tr>\n",
              "      <th>50%</th>\n",
              "      <td>104.000000</td>\n",
              "      <td>64.989151</td>\n",
              "    </tr>\n",
              "    <tr>\n",
              "      <th>75%</th>\n",
              "      <td>152.000000</td>\n",
              "      <td>65.826307</td>\n",
              "    </tr>\n",
              "    <tr>\n",
              "      <th>max</th>\n",
              "      <td>199.000000</td>\n",
              "      <td>75.187781</td>\n",
              "    </tr>\n",
              "  </tbody>\n",
              "</table>\n",
              "</div>"
            ],
            "text/plain": [
              "               size           GPA\n",
              "count  10000.000000  10000.000000\n",
              "mean     104.442100     64.988693\n",
              "std       54.903986      1.522066\n",
              "min       10.000000     54.841785\n",
              "25%       57.000000     64.152781\n",
              "50%      104.000000     64.989151\n",
              "75%      152.000000     65.826307\n",
              "max      199.000000     75.187781"
            ]
          },
          "metadata": {
            "tags": []
          },
          "execution_count": 46
        }
      ]
    },
    {
      "cell_type": "code",
      "metadata": {
        "colab": {
          "base_uri": "https://localhost:8080/",
          "height": 400
        },
        "id": "SSe1cvYz1cpc",
        "outputId": "3baf2398-a51c-4bec-b036-b0cac5f0e7cd"
      },
      "source": [
        "import seaborn as sns\n",
        "import matplotlib.pyplot as plt\n",
        "#fig, axs = plt.subplots(figsize=(15, 15))\n",
        "sns.relplot(x = data['size'], y = data.GPA)\n"
      ],
      "execution_count": 55,
      "outputs": [
        {
          "output_type": "execute_result",
          "data": {
            "text/plain": [
              "<seaborn.axisgrid.FacetGrid at 0x7f1086f08e90>"
            ]
          },
          "metadata": {
            "tags": []
          },
          "execution_count": 55
        },
        {
          "output_type": "display_data",
          "data": {
            "image/png": "[encoded data removed]",
            "text/plain": [
              "<Figure size 360x360 with 1 Axes>"
            ]
          },
          "metadata": {
            "tags": [],
            "needs_background": "light"
          }
        }
      ]
    },
    {
      "cell_type": "code",
      "metadata": {
        "colab": {
          "base_uri": "https://localhost:8080/",
          "height": 459
        },
        "id": "ggC5l7X13YGa",
        "outputId": "8556f90c-f936-41ee-f7e3-ae3e16573ada"
      },
      "source": [
        "\n",
        "fig, ax = plt.subplots(1, 2, figsize = (15, 7))\n",
        "sns.distplot(a = data['size'], hist = True\n",
        "             , bins = 30, ax = ax[0])\n",
        "sns.distplot(a = data['GPA'], hist = True\n",
        "             , bins = 30, ax = ax[1])\n"
      ],
      "execution_count": 67,
      "outputs": [
        {
          "output_type": "execute_result",
          "data": {
            "text/plain": [
              "<matplotlib.axes._subplots.AxesSubplot at 0x7f1086737710>"
            ]
          },
          "metadata": {
            "tags": []
          },
          "execution_count": 67
        },
        {
          "output_type": "display_data",
          "data": {
            "image/png": "[encoded data removed]",
            "text/plain": [
              "<Figure size 1080x504 with 2 Axes>"
            ]
          },
          "metadata": {
            "tags": [],
            "needs_background": "light"
          }
        }
      ]
    },
    {
      "cell_type": "markdown",
      "metadata": {
        "id": "vmRqmk4qC7vC"
      },
      "source": [
        "Необходмо для разных разбиений нашей выборки на маленькие классы и на большие классы (Очевидно нам никто не сказал как их разбить). Пусть мы определим критерий по которому мы будем считать класс маленьким или большим (довольно грубо, но разумно) $X_{s} = \\{x \\in X_{data} | x_{size} < t_{1}\\}$, $X_{b} = \\{x \\in X_{data} | x_{size} > t_{2}\\} \\;\\; t_{1} \\in [10, 80] \\; t_{2} \\in [150, 200]$.  - кажется разумным брать такие разбиения. Ну или те для которых сгруппированные данные по признаку GPA образуют нормальное распределение в соответствии с тестом.\n",
        "\n",
        "Теперь судя по графику видно, что распределение оценок $x_{GPA}$ очень похоже на нормальное. Но надо для проверки использовать критерий нормальности, например на основе ассиметрии и эксцесса.\n",
        "\n"
      ]
    },
    {
      "cell_type": "code",
      "metadata": {
        "colab": {
          "base_uri": "https://localhost:8080/"
        },
        "id": "IXQI60PMHMqV",
        "outputId": "94d76fa6-c6b3-4ec6-ab0e-3b4c389fb6be"
      },
      "source": [
        "from scipy import stats\n",
        "\n",
        "diap = (20, 190)\n",
        "step = 5\n",
        "history = []\n",
        "alpha_normal = 0.1\n",
        "alpha_means = 0.05\n",
        "\n",
        "times_right = 0\n",
        "times_normal_distr = 0\n",
        "\n",
        "for treshold in range(20, 191, 10):\n",
        "  datasmaller = data[data['size'] <= treshold]\n",
        "  databigger = data[data['size'] > treshold]\n",
        "  # -- check normall test -- #\n",
        "  k2_group1, p_group1 = stats.normaltest(datasmaller['GPA'].values)\n",
        "  k2_group2, p_group2 = stats.normaltest(databigger['GPA'].values)\n",
        "  if(p_group1 < alpha_normal and p_group2 < alpha_normal):\n",
        "    times_normal_distr += 1\n",
        "    print('comes from normal distribution')\n",
        "    print('treshold: {}'.format(treshold))\n",
        "    # -- check -- #\n",
        "    n1 = datasmaller.shape[0]\n",
        "    n2 = databigger.shape[0]\n",
        "    gpa1, gpa2 = datasmaller['GPA'], databigger['GPA']\n",
        "    K = (gpa1.mean() - gpa2.mean())/np.sqrt(gpa1.std()/n1 + gpa2.std()/n2)\n",
        "    quantile1 = stats.norm.ppf(1 - alpha_means/2)\n",
        "    quantile2 = -quantile1\n",
        "    print(quantile1, quantile2)\n",
        "    if(K > quantile1 or K < quantile2):\n",
        "      # -- отвергаем гипотезу на уровне занчимости alpha_means = 0.05 -- #\n",
        "      # -- mean1 != mean2 -- #\n",
        "      pass\n",
        "    else:\n",
        "      # -- mean1 == mean2 -- #\n",
        "      # -- Хотя по идее мы ничего не можем точно сказать -- #\n",
        "      print('m1 == m2')\n",
        "      times_right += 1\n",
        "\n",
        "\n",
        "print(\"times situations where distributions is normal : {}\\times situations where means of GPA is equal: {}\".format(times_normal_distr,\n",
        "                                                                                                                    times_right))\n",
        "\n",
        "if(times_normal_distr == times_right):\n",
        "  print('Гипотеза о том, что средние оценки у людей, которые учаться в больших школах и маленьких равны подтверждается на уровне значимости alpha: {}'.format(alpha_means)) "
      ],
      "execution_count": 85,
      "outputs": [
        {
          "output_type": "stream",
          "text": [
            "comes from normal distribution\n",
            "treshold: 40\n",
            "1.959963984540054 -1.959963984540054\n",
            "m1 == m2\n",
            "comes from normal distribution\n",
            "treshold: 50\n",
            "1.959963984540054 -1.959963984540054\n",
            "m1 == m2\n",
            "comes from normal distribution\n",
            "treshold: 60\n",
            "1.959963984540054 -1.959963984540054\n",
            "m1 == m2\n",
            "comes from normal distribution\n",
            "treshold: 70\n",
            "1.959963984540054 -1.959963984540054\n",
            "m1 == m2\n",
            "comes from normal distribution\n",
            "treshold: 80\n",
            "1.959963984540054 -1.959963984540054\n",
            "m1 == m2\n",
            "comes from normal distribution\n",
            "treshold: 150\n",
            "1.959963984540054 -1.959963984540054\n",
            "m1 == m2\n",
            "comes from normal distribution\n",
            "treshold: 180\n",
            "1.959963984540054 -1.959963984540054\n",
            "m1 == m2\n",
            "comes from normal distribution\n",
            "treshold: 190\n",
            "1.959963984540054 -1.959963984540054\n",
            "m1 == m2\n",
            "times situations where distributions is normal : 8\times situations where means of GPA is equal: 8\n",
            "Гипотеза о том, что средние оценки у людей, которые учаться в больших школах и маленьких равны подтверждается на уровне значимости alpha: 0.05\n"
          ],
          "name": "stdout"
        }
      ]
    },
    {
      "cell_type": "markdown",
      "metadata": {
        "id": "teIZ_l0njjsX"
      },
      "source": [
        "# Задача 2"
      ]
    },
    {
      "cell_type": "markdown",
      "metadata": {
        "id": "3pwIAZXjjjsX"
      },
      "source": [
        "Ниже дан код, строящий простой классификатор. Постройте 95% доверительный интервал accuracy классификатора на обучающей выборке."
      ]
    },
    {
      "cell_type": "code",
      "metadata": {
        "colab": {
          "base_uri": "https://localhost:8080/"
        },
        "id": "sa4xQ3gkjjsX",
        "outputId": "5bc82994-83d9-4664-8628-4b02c894fec1"
      },
      "source": [
        "X_train, y_train = make_classification(10000)\n",
        "model = LogisticRegressionCV()\n",
        "model.fit(X_train, y_train);\n",
        "accuracy_score(model.predict(X_train), y_train)"
      ],
      "execution_count": 24,
      "outputs": [
        {
          "output_type": "execute_result",
          "data": {
            "text/plain": [
              "0.9107"
            ]
          },
          "metadata": {
            "tags": []
          },
          "execution_count": 24
        }
      ]
    },
    {
      "cell_type": "code",
      "metadata": {
        "colab": {
          "base_uri": "https://localhost:8080/"
        },
        "id": "U94hLKtkjjsY",
        "outputId": "485c021d-836a-47ad-c5d6-edae5c2f4d48"
      },
      "source": [
        "# --  Stratified Shuffle split -- #\n",
        "# -- Shuffle Split -- # \n",
        "from sklearn.base import BaseEstimator, ClassifierMixin\n",
        "from sklearn.linear_model import LogisticRegression\n",
        "from sklearn.metrics import accuracy_score, f1_score, recall_score, precision_score, roc_auc_score\n",
        "\n",
        "class LogisticRegressionCVMy(BaseEstimator, ClassifierMixin):\n",
        "\n",
        "  def __init__(self, Cs :int = 10, \n",
        "               cv :int = 5,\n",
        "               penalty : str = 'l2',\n",
        "               scorer = accuracy_score,\n",
        "               class_weight = None, \n",
        "               verbose = 0):\n",
        "    super().__init__()\n",
        "    self._Cs = Cs\n",
        "    self._cv = cv\n",
        "    self._penalty = penalty\n",
        "    # -- function (ground_truth, predicted) -- #\n",
        "    self._scorer = scorer\n",
        "    # -- shold be logisticRegression -- #\n",
        "    self._cls = None\n",
        "    self._class_weight = class_weight\n",
        "    self._verbose = verbose\n",
        "\n",
        "  def fit(self, X: np.ndarray, y: np.ndarray) -> None:\n",
        "    # -- Grid Search for hyperparameter C - regularization for l2 -- #\n",
        "    grid_C = np.logspace(-4, 4, self._Cs)\n",
        "    test_scores = []\n",
        "    train_scores = []\n",
        "    for idx, C in enumerate(grid_C):\n",
        "      sss = StratifiedKFold(n_splits = self._cv, \n",
        "                            shuffle = True,\n",
        "                            random_state = 34)\n",
        "      test_score = 0\n",
        "      train_score = 0\n",
        "      for tr_ind, ts_ind in sss.split(X, y):\n",
        "        X_tr, X_ts = X[tr_ind], X[ts_ind]\n",
        "        y_tr, y_ts = y[tr_ind], y[ts_ind]\n",
        "        logreg = LogisticRegression(C = C, \n",
        "                                    penalty = self._penalty,\n",
        "                                    class_weight = self._class_weight)\n",
        "        logreg.fit(X_tr, y_tr)\n",
        "        preds = logreg.predict(X_ts)\n",
        "        preds_tr = logreg.predict(X_tr)\n",
        "        test_score += self._scorer(y_ts, preds)\n",
        "        train_score += self._scorer(y_tr, preds_tr)\n",
        "\n",
        "      \n",
        "      if(self._verbose):\n",
        "        print('train score on cv {} : {:.3f}'.format(self._cv, train_score / self._cv))\n",
        "        print('test score on cv {} : {:.3f}'.format(self._cv, test_score / self._cv))\n",
        "        print(\"-\"*30)\n",
        "\n",
        "      test_scores.append(test_score / self._cv)\n",
        "      train_scores.append(train_score / self._cv)\n",
        "\n",
        "    # -- we need find maximum -- #\n",
        "    test_scores = np.asarray(test_scores)\n",
        "    train_scores = np.asarray(train_scores)\n",
        "    thebestC = grid_C[test_scores.argmax()]\n",
        "    # -- define the best parameter C -- #\n",
        "    self._cls = LogisticRegression(C = thebestC,\n",
        "                                   penalty = self._penalty, \n",
        "                                   class_weight = self._class_weight)\n",
        "    # -- fit on the best hyperparameter -- #\n",
        "    self._cls.fit(X, y)\n",
        "    return None\n",
        "  \n",
        "  def predict(self, X : np.ndarray) -> np.ndarray:\n",
        "    if(self._cls):\n",
        "      return self._cls.predict(X)\n",
        "    else:\n",
        "      print(\"Shold be execute fit before!\")\n",
        "      return None\n",
        "\n",
        "  def predict_proba(self, X : np.ndarray) -> np.ndarray:\n",
        "    if(self._cls):\n",
        "      return self._cls.predict_proba(X)\n",
        "    else:\n",
        "      print(\"Shold be execute fit before!\")\n",
        "      return None\n",
        "    \n",
        "\n",
        "logregcv = LogisticRegressionCVMy(verbose = 1,\n",
        "                                  class_weight = \"balanced\")\n",
        "logregcv.fit(X_train, y_train)\n",
        "print(\"accuracy score: {:.3f}\".format(accuracy_score(logregcv.predict(X_train), y_train)))\n"
      ],
      "execution_count": 30,
      "outputs": [
        {
          "output_type": "stream",
          "text": [
            "train score on cv 5 : 0.909\n",
            "test score on cv 5 : 0.908\n",
            "------------------------------\n",
            "train score on cv 5 : 0.911\n",
            "test score on cv 5 : 0.910\n",
            "------------------------------\n",
            "train score on cv 5 : 0.911\n",
            "test score on cv 5 : 0.910\n",
            "------------------------------\n",
            "train score on cv 5 : 0.911\n",
            "test score on cv 5 : 0.910\n",
            "------------------------------\n",
            "train score on cv 5 : 0.911\n",
            "test score on cv 5 : 0.910\n",
            "------------------------------\n",
            "train score on cv 5 : 0.911\n",
            "test score on cv 5 : 0.910\n",
            "------------------------------\n",
            "train score on cv 5 : 0.911\n",
            "test score on cv 5 : 0.910\n",
            "------------------------------\n",
            "train score on cv 5 : 0.911\n",
            "test score on cv 5 : 0.910\n",
            "------------------------------\n",
            "train score on cv 5 : 0.911\n",
            "test score on cv 5 : 0.910\n",
            "------------------------------\n",
            "train score on cv 5 : 0.911\n",
            "test score on cv 5 : 0.910\n",
            "------------------------------\n",
            "accuracy score: 0.911\n"
          ],
          "name": "stdout"
        }
      ]
    },
    {
      "cell_type": "code",
      "metadata": {
        "colab": {
          "base_uri": "https://localhost:8080/"
        },
        "id": "REHzee9Ixc8_",
        "outputId": "3000acb9-7309-4f1c-fd0d-da3f53990011"
      },
      "source": [
        "def findDoVIntv(cls, X : np.ndarray, y :np.ndarray, \n",
        "                alpha: float = 0.95,\n",
        "                N : int = 50, \n",
        "                random_state = 34):\n",
        "  \n",
        "  \"\"\"\n",
        "  returns mean - accuracy\n",
        "  tupel - intarval\n",
        "  \"\"\"\n",
        "  test_size = 0.3\n",
        "  sss = StratifiedShuffleSplit(n_splits = 50, \n",
        "                       test_size = test_size,\n",
        "                       random_state = 34)\n",
        "\n",
        "  accuracy_arr = []\n",
        "  alp = 1 - alpha\n",
        "  \n",
        "  for tr_idx, ts_idx in sss.split(X, y):\n",
        "    X_tr, X_ts = X[tr_idx], X[ts_idx]\n",
        "    y_tr, y_ts = y[tr_idx], y[ts_idx]\n",
        "    cls_current = cls()\n",
        "    cls_current.fit(X_tr, y_tr)\n",
        "    acc = accuracy_score(cls_current.predict(X_ts), y_ts)\n",
        "    accuracy_arr.append(acc)\n",
        "\n",
        "  accuracy_arr = np.asarray(accuracy_arr)\n",
        "  qleft = np.percentile(accuracy_arr, q = 100 * (alp / 2))\n",
        "  qright = np.percentile(accuracy_arr, q = 100 * (1 - alp / 2))\n",
        "\n",
        "  mean_acc = np.mean(accuracy_arr)\n",
        "  print('mean: {:.3f}'.format(mean_acc))\n",
        "  print('interval := ({:.4f} <= {:.4f} <= {:.4f})'.format(qleft, mean_acc, qright))\n",
        "\n",
        "  return mean_acc, (qleft, qright)\n",
        "\n",
        "print('for only logisticregression:')\n",
        "mean_lg1, pair1 = findDoVIntv(LogisticRegression, X_train, y_train)\n",
        "print('-'*50)\n",
        "\n",
        "print('for logisticregressionCV sklearn implementation:')\n",
        "mean_lg2, pair2 = findDoVIntv(LogisticRegressionCV, X_train, y_train)\n",
        "print('-'*50)\n",
        "\n",
        "print('for logisticregressionCV my implementation:')\n",
        "mean_lg2, pair2 = findDoVIntv(LogisticRegressionCVMy, X_train, y_train)\n",
        "print('-'*50)"
      ],
      "execution_count": 41,
      "outputs": [
        {
          "output_type": "stream",
          "text": [
            "for only logisticregression:\n",
            "mean: 0.910\n",
            "interval := (0.9021 <= 0.9097 <= 0.9173)\n",
            "--------------------------------------------------\n",
            "for logisticregressionCV sklearn implementation:\n",
            "mean: 0.910\n",
            "interval := (0.9042 <= 0.9100 <= 0.9159)\n",
            "--------------------------------------------------\n",
            "for only logisticregressionCV my implementation:\n",
            "mean: 0.910\n",
            "interval := (0.9025 <= 0.9099 <= 0.9159)\n",
            "--------------------------------------------------\n"
          ],
          "name": "stdout"
        }
      ]
    },
    {
      "cell_type": "markdown",
      "metadata": {
        "id": "yf-G4zYljjsZ"
      },
      "source": [
        "# Задача 3"
      ]
    },
    {
      "cell_type": "markdown",
      "metadata": {
        "id": "lqQTa0jUjjsZ"
      },
      "source": [
        "Пусть вы проводите клиническое испытание и вам необходимо выяснить есть ли корреляция между некоторыми факторами A и B. Вы обследовали 40 человек и записали данные в таблицу task3_data.csv. В колонках записано следующее: Factor A - измерения фактора A; Factor B - измерения фактора B; is_women - индикатор того, является ли пациент женщиной.  \n",
        "\n",
        "Используя данные из  task3_data.csv выясните, есть ли корреляция между факторами A и B?"
      ]
    },
    {
      "cell_type": "code",
      "metadata": {
        "colab": {
          "base_uri": "https://localhost:8080/"
        },
        "id": "HAhT2oWCjjsZ",
        "outputId": "2a723a17-4e78-407f-d35b-4762313bda82"
      },
      "source": [
        "data_another = pd.read_csv(\"/content/drive/MyDrive/Colab_Notebooks/DB/task3_data.csv\", sep=\";\")\n",
        "(data_another.is_women == 0).sum()"
      ],
      "execution_count": 90,
      "outputs": [
        {
          "output_type": "execute_result",
          "data": {
            "text/plain": [
              "20"
            ]
          },
          "metadata": {
            "tags": []
          },
          "execution_count": 90
        }
      ]
    },
    {
      "cell_type": "markdown",
      "metadata": {
        "id": "4s5wzSzxN7v4"
      },
      "source": [
        "Половина женщин и мужчин."
      ]
    },
    {
      "cell_type": "code",
      "metadata": {
        "id": "3WEzp3nJNs9b"
      },
      "source": [
        "cols = data_another.columns\n",
        "data_another = data_another.rename(columns = {cols[0]: 'A', cols[1]: 'B'})"
      ],
      "execution_count": 93,
      "outputs": []
    },
    {
      "cell_type": "code",
      "metadata": {
        "colab": {
          "base_uri": "https://localhost:8080/"
        },
        "id": "ka6q_SDsSSOU",
        "outputId": "c63f7b5f-9b16-4ca7-d850-17ce55c9a564"
      },
      "source": [
        "def corr(x, y):\n",
        "  dx = x - x.mean()\n",
        "  dy = x - y.mean()\n",
        "\n",
        "  return np.dot(dx, dy)/(np.sqrt((dx ** 2).sum()) * np.sqrt((dy ** 2).sum()))\n",
        "A, B = data_another.A.values, data_another.B.values\n",
        "# -- #\n",
        "print(\"simple: {}\".format(corr(A, B)))\n",
        "# -- by group --  #\n",
        "mask = (data_another.is_women == 1)\n",
        "# -- 1 -- #\n",
        "A1 = data_another[mask].A.values\n",
        "B1 = data_another[mask].B.values\n",
        "print(\"for woman : {}\".format(corr(A1, B1)))\n",
        "\n",
        "# -- 0 -- #\n",
        "A2 = data_another[~mask].A.values\n",
        "B2 = data_another[~mask].B.values\n",
        "print(\"for man: {}\".format(corr(A2, B2)))\n"
      ],
      "execution_count": 143,
      "outputs": [
        {
          "output_type": "stream",
          "text": [
            "simple: 0.8987929513204036\n",
            "for woman : 0.9886812175181774\n",
            "for man: 0.29013896373687076\n"
          ],
          "name": "stdout"
        }
      ]
    },
    {
      "cell_type": "code",
      "metadata": {
        "colab": {
          "base_uri": "https://localhost:8080/"
        },
        "id": "ssb4sAWcZFGv",
        "outputId": "82958fde-8aae-4b84-c07c-b566f866fefd"
      },
      "source": [
        "# -- T criterion of pearson -- #\n",
        "# -- before we Standart scaling -- #\n",
        "\n",
        "a1_std = StandardScaler().fit_transform(A1.reshape((A1.shape[0], 1))).squeeze()\n",
        "a2_std = StandardScaler().fit_transform(A2.reshape((A2.shape[0], 1))).squeeze()\n",
        "\n",
        "b1_std = StandardScaler().fit_transform(B1.reshape((B1.shape[0], 1))).squeeze()\n",
        "b2_std = StandardScaler().fit_transform(B2.reshape((B2.shape[0], 1))).squeeze()\n",
        "\n",
        "a_std = StandardScaler().fit_transform(A.reshape((A.shape[0], 1))).squeeze()\n",
        "b_std = StandardScaler().fit_transform(B.reshape((B.shape[0], 1))).squeeze()\n",
        "\n",
        "# -- #\n",
        "alpha = 0.05\n",
        "data = [(a1_std, b1_std),(a2_std, b2_std),(a_std, b_std)]\n",
        "data_not_std = [(A1, B1),(A2, B2),(A, B)]\n",
        "# -- когда не надо стандартизировать -- #\n",
        "flag = False\n",
        "if(not flag):\n",
        "  data = data_not_std\n",
        "\n",
        "list_names = [('A1', 'B1'), ('A2', 'B2'), ('A', 'B')]\n",
        "for idx in range(3):\n",
        "  n_current = data[idx][0].shape[0]\n",
        "  corr_emp = corr(data[idx][0], data[idx][1])\n",
        "  quantile = stats.t.ppf(q = 1 - alpha/2, df = n_current - 2)\n",
        "  statistica = np.sqrt(n_current - 2) * corr_emp/np.sqrt(1 - corr_emp ** 2) \n",
        "  print(np.abs(statistica), quantile, corr_emp)\n",
        "  if(np.fabs(statistica) >= quantile):\n",
        "    # -- correlation not zero -- #\n",
        "    # -- with alpha = 0.05 -- #\n",
        "    print(\"Отвергаем гипотезу о нулевом значении корреляции между признаками: {} и {}\".format(list_names[idx][0],\n",
        "                                                                                         list_names[idx][1]))\n",
        "  else:\n",
        "    # -- Мы не можем отвергнуть гипотезу, по идее результат статистически не значим -- #\n",
        "    print(\"Не можем отвергнуть гипотезу о нулевом значении корреляции между признаками: {} и {} результат статистически не значим\".format(list_names[idx][0],\n",
        "                                                                                         list_names[idx][1]))"
      ],
      "execution_count": 146,
      "outputs": [
        {
          "output_type": "stream",
          "text": [
            "27.958257037179617 2.10092204024096 0.9886812175181774\n",
            "Отвергаем гипотезу о нулевом значении корреляции между признаками: A1 и B1\n",
            "1.2862855562306932 2.10092204024096 0.29013896373687076\n",
            "Не можем отвергнуть гипотезу о нулевом значении корреляции между признаками: A2 и B2 результат статистически не значим\n",
            "12.638841586329828 2.024394164575136 0.8987929513204036\n",
            "Отвергаем гипотезу о нулевом значении корреляции между признаками: A и B\n"
          ],
          "name": "stdout"
        }
      ]
    },
    {
      "cell_type": "markdown",
      "metadata": {
        "id": "FTSnDWsZU7y0"
      },
      "source": [
        "Текущий вывод состоит в том, что по мужчинам низкая корреляция. А по женщинам высокая практически 1. Как нам на основе небольшой выборке сделать какое-то утверждение относительно высокой коррелированности или слабой коррелированности? "
      ]
    },
    {
      "cell_type": "code",
      "metadata": {
        "colab": {
          "base_uri": "https://localhost:8080/",
          "height": 282
        },
        "id": "kzp-MRvfSgH7",
        "outputId": "b32831b2-91e0-4527-9690-4d85e804ba6a"
      },
      "source": [
        "# -- Какие выборки -- #\n",
        "sns.distplot(A)"
      ],
      "execution_count": 121,
      "outputs": [
        {
          "output_type": "execute_result",
          "data": {
            "text/plain": [
              "<matplotlib.axes._subplots.AxesSubplot at 0x7f1086361f90>"
            ]
          },
          "metadata": {
            "tags": []
          },
          "execution_count": 121
        },
        {
          "output_type": "display_data",
          "data": {
            "image/png": "[encoded data removed]",
            "text/plain": [
              "<Figure size 432x288 with 1 Axes>"
            ]
          },
          "metadata": {
            "tags": [],
            "needs_background": "light"
          }
        }
      ]
    },
    {
      "cell_type": "code",
      "metadata": {
        "id": "qXgb1Cq6Xhnc"
      },
      "source": [
        "from sklearn.preprocessing import StandardScaler"
      ],
      "execution_count": 133,
      "outputs": []
    },
    {
      "cell_type": "code",
      "metadata": {
        "id": "hr_fAoz1V2ec"
      },
      "source": [
        "_, pa1 = stats.normaltest(StandardScaler().fit_transform(A1.reshape((A1.shape[0], 1))))\n",
        "_, pa2 = stats.normaltest(StandardScaler().fit_transform(A2.reshape((A2.shape[0], 1))))\n",
        "_, pb1 = stats.normaltest(StandardScaler().fit_transform(B1.reshape((B1.shape[0], 1))))\n",
        "_, pb2 = stats.normaltest(StandardScaler().fit_transform(B2.reshape((B2.shape[0], 1))))\n",
        "\n",
        "_, pa = stats.normaltest(StandardScaler().fit_transform(A.reshape((A.shape[0], 1))))\n",
        "_, pb = stats.normaltest(StandardScaler().fit_transform(B.reshape((B.shape[0], 1))))\n"
      ],
      "execution_count": 131,
      "outputs": []
    },
    {
      "cell_type": "code",
      "metadata": {
        "colab": {
          "base_uri": "https://localhost:8080/"
        },
        "id": "HdXAKRSOWU0Y",
        "outputId": "81784d77-6392-4b4d-c0c9-e5b77f648a96"
      },
      "source": [
        "pa1, pa2, pb1, pb2, pa, pb"
      ],
      "execution_count": 132,
      "outputs": [
        {
          "output_type": "execute_result",
          "data": {
            "text/plain": [
              "(array([0.33461807]),\n",
              " array([0.38583471]),\n",
              " array([0.59609858]),\n",
              " array([0.7240443]),\n",
              " array([1.36239027e-15]),\n",
              " array([0.00976955]))"
            ]
          },
          "metadata": {
            "tags": []
          },
          "execution_count": 132
        }
      ]
    },
    {
      "cell_type": "code",
      "metadata": {
        "id": "vLPGBW-mWWf0"
      },
      "source": [
        ""
      ],
      "execution_count": null,
      "outputs": []
    }
  ]
}